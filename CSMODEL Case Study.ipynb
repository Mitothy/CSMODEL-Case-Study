{
 "cells": [
  {
   "attachments": {},
   "cell_type": "markdown",
   "metadata": {},
   "source": [
    "# Nutritional Content of Food\n",
    "\n",
    "In this notebook we will be exploring the Nutritional Content of Food\n",
    "\n",
    "This notebook is made in In partial fulfillment of the requirements for the course CSMODEL\n",
    "\n",
    "[GROUP NAME]\n",
    "    \n",
    "    Tan, Timothy Joshua O., \n",
    "    Recato Dy, John Kieffer L., \n",
    "    Corpuz, John Exequeil A., \n",
    "    Diaz, Sebastian Q."
   ]
  },
  {
   "attachments": {},
   "cell_type": "markdown",
   "metadata": {},
   "source": []
  },
  {
   "cell_type": "code",
   "execution_count": null,
   "metadata": {},
   "outputs": [],
   "source": []
  }
 ],
 "metadata": {
  "language_info": {
   "name": "python"
  },
  "orig_nbformat": 4
 },
 "nbformat": 4,
 "nbformat_minor": 2
}
